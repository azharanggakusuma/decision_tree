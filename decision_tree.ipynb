{
 "cells": [
  {
   "attachments": {},
   "cell_type": "markdown",
   "metadata": {},
   "source": [
    "*Import library*"
   ]
  },
  {
   "cell_type": "code",
   "execution_count": 43,
   "metadata": {},
   "outputs": [],
   "source": [
    "# Load dataset\n",
    "import pandas as pd\n",
    "import numpy as np\n",
    "\n",
    "# Standarisasi dan Normalisasi\n",
    "from sklearn.preprocessing import StandardScaler, MinMaxScaler\n",
    "\n",
    "# Imbalanced dataset\n",
    "from imblearn.over_sampling import SMOTE\n",
    "from sklearn.tree import DecisionTreeClassifier\n",
    "from sklearn.metrics import classification_report\n",
    "\n",
    "# Label encoding dan one hot encoding\n",
    "from sklearn.preprocessing import LabelEncoder, OneHotEncoder\n",
    "\n",
    "# Feature selection\n",
    "from sklearn.tree import DecisionTreeRegressor\n",
    "\n",
    "# Split training testing dataset\n",
    "from sklearn.model_selection import train_test_split\n",
    "from sklearn.metrics import accuracy_score, roc_auc_score, roc_curve, classification_report, confusion_matrix\n",
    "\n",
    "# Feature selection dan Visualisai data\n",
    "from sklearn.tree import DecisionTreeClassifier, plot_tree\n",
    "import matplotlib.pyplot as plt"
   ]
  },
  {
   "attachments": {},
   "cell_type": "markdown",
   "metadata": {},
   "source": [
    "*Load dataset*"
   ]
  },
  {
   "cell_type": "code",
   "execution_count": 44,
   "metadata": {},
   "outputs": [
    {
     "data": {
      "text/html": [
       "<div>\n",
       "<style scoped>\n",
       "    .dataframe tbody tr th:only-of-type {\n",
       "        vertical-align: middle;\n",
       "    }\n",
       "\n",
       "    .dataframe tbody tr th {\n",
       "        vertical-align: top;\n",
       "    }\n",
       "\n",
       "    .dataframe thead th {\n",
       "        text-align: right;\n",
       "    }\n",
       "</style>\n",
       "<table border=\"1\" class=\"dataframe\">\n",
       "  <thead>\n",
       "    <tr style=\"text-align: right;\">\n",
       "      <th></th>\n",
       "      <th>WCTA</th>\n",
       "      <th>EBITA</th>\n",
       "      <th>RETA</th>\n",
       "      <th>BVETD</th>\n",
       "      <th>Z-Score</th>\n",
       "      <th>Class</th>\n",
       "    </tr>\n",
       "  </thead>\n",
       "  <tbody>\n",
       "    <tr>\n",
       "      <th>0</th>\n",
       "      <td>4.32</td>\n",
       "      <td>1.400</td>\n",
       "      <td>1.36</td>\n",
       "      <td>13.26</td>\n",
       "      <td>0.7762</td>\n",
       "      <td>Distress Zone</td>\n",
       "    </tr>\n",
       "    <tr>\n",
       "      <th>1</th>\n",
       "      <td>0.95</td>\n",
       "      <td>1.750</td>\n",
       "      <td>1.09</td>\n",
       "      <td>195.14</td>\n",
       "      <td>5.9081</td>\n",
       "      <td>Safe Zone</td>\n",
       "    </tr>\n",
       "    <tr>\n",
       "      <th>2</th>\n",
       "      <td>3.19</td>\n",
       "      <td>1.610</td>\n",
       "      <td>0.35</td>\n",
       "      <td>20.62</td>\n",
       "      <td>0.0852</td>\n",
       "      <td>Distress Zone</td>\n",
       "    </tr>\n",
       "    <tr>\n",
       "      <th>3</th>\n",
       "      <td>1.80</td>\n",
       "      <td>1.500</td>\n",
       "      <td>NaN</td>\n",
       "      <td>31.43</td>\n",
       "      <td>5.7425</td>\n",
       "      <td>Safe Zone</td>\n",
       "    </tr>\n",
       "    <tr>\n",
       "      <th>4</th>\n",
       "      <td>3.59</td>\n",
       "      <td>1.625</td>\n",
       "      <td>0.61</td>\n",
       "      <td>27.68</td>\n",
       "      <td>2.1127</td>\n",
       "      <td>Grey Zone</td>\n",
       "    </tr>\n",
       "  </tbody>\n",
       "</table>\n",
       "</div>"
      ],
      "text/plain": [
       "   WCTA  EBITA  RETA   BVETD  Z-Score          Class\n",
       "0  4.32  1.400  1.36   13.26   0.7762  Distress Zone\n",
       "1  0.95  1.750  1.09  195.14   5.9081      Safe Zone\n",
       "2  3.19  1.610  0.35   20.62   0.0852  Distress Zone\n",
       "3  1.80  1.500   NaN   31.43   5.7425      Safe Zone\n",
       "4  3.59  1.625  0.61   27.68   2.1127      Grey Zone"
      ]
     },
     "execution_count": 44,
     "metadata": {},
     "output_type": "execute_result"
    }
   ],
   "source": [
    "# Memuat dataset menggunakan pandas\n",
    "data = pd.read_csv('dataset1016-DM.csv')\n",
    "\n",
    "# Menampilkan dataset yang di load\n",
    "data.head()"
   ]
  },
  {
   "attachments": {},
   "cell_type": "markdown",
   "metadata": {},
   "source": [
    "*Cek missing value sebelum preprocessing*"
   ]
  },
  {
   "cell_type": "code",
   "execution_count": 45,
   "metadata": {},
   "outputs": [
    {
     "name": "stdout",
     "output_type": "stream",
     "text": [
      "Jumlah missing value sebelum preprocessing:\n",
      "WCTA       0\n",
      "EBITA      0\n",
      "RETA       2\n",
      "BVETD      0\n",
      "Z-Score    0\n",
      "Class      0\n",
      "dtype: int64\n"
     ]
    }
   ],
   "source": [
    "print(\"Jumlah missing value sebelum preprocessing:\")\n",
    "print(data.isnull().sum())"
   ]
  },
  {
   "attachments": {},
   "cell_type": "markdown",
   "metadata": {},
   "source": [
    "*Handling missing value*"
   ]
  },
  {
   "cell_type": "code",
   "execution_count": 46,
   "metadata": {},
   "outputs": [
    {
     "name": "stderr",
     "output_type": "stream",
     "text": [
      "C:\\Users\\LENOVO\\AppData\\Local\\Temp\\ipykernel_7780\\2906592572.py:2: FutureWarning: Dropping of nuisance columns in DataFrame reductions (with 'numeric_only=None') is deprecated; in a future version this will raise TypeError.  Select only valid columns before calling the reduction.\n",
      "  data.fillna(data.mean(), inplace=True)\n"
     ]
    }
   ],
   "source": [
    "# Menangani missing value\n",
    "data.fillna(data.mean(), inplace=True)"
   ]
  },
  {
   "attachments": {},
   "cell_type": "markdown",
   "metadata": {},
   "source": [
    "*Cek missing value setelah preprocessing*"
   ]
  },
  {
   "cell_type": "code",
   "execution_count": 47,
   "metadata": {},
   "outputs": [
    {
     "name": "stdout",
     "output_type": "stream",
     "text": [
      "Jumlah missing value setelah preprocessing:\n",
      "WCTA       0\n",
      "EBITA      0\n",
      "RETA       0\n",
      "BVETD      0\n",
      "Z-Score    0\n",
      "Class      0\n",
      "dtype: int64\n"
     ]
    }
   ],
   "source": [
    "print(\"Jumlah missing value setelah preprocessing:\")\n",
    "print(data.isnull().sum())"
   ]
  },
  {
   "attachments": {},
   "cell_type": "markdown",
   "metadata": {},
   "source": [
    "*Standarisasi*"
   ]
  },
  {
   "cell_type": "code",
   "execution_count": 48,
   "metadata": {},
   "outputs": [
    {
     "name": "stdout",
     "output_type": "stream",
     "text": [
      "   WCTA  EBITA      RETA   BVETD  Z-Score\n",
      "0  4.32  1.400  1.360000   13.26   0.7762\n",
      "1  0.95  1.750  1.090000  195.14   5.9081\n",
      "2  3.19  1.610  0.350000   20.62   0.0852\n",
      "3  1.80  1.500  0.838088   31.43   5.7425\n",
      "4  3.59  1.625  0.610000   27.68   2.1127\n"
     ]
    }
   ],
   "source": [
    "# Pisahkan features dan kolom target\n",
    "X = data.iloc[:, :-2]\n",
    "y = data.iloc[:, :-1]\n",
    "\n",
    "# Membuat objek StandardScaler\n",
    "scaler = StandardScaler()\n",
    "\n",
    "# Skala fitur\n",
    "scaled_X = scaler.fit_transform(X)\n",
    "\n",
    "# Melakukan standarisasi data\n",
    "scaled_data = pd.DataFrame(scaled_X, columns=X.columns)\n",
    "\n",
    "# Definisikan variable y adalah target\n",
    "scaled_data = y\n",
    "\n",
    "# Menampilkan hasil\n",
    "print(scaled_data.head())"
   ]
  },
  {
   "attachments": {},
   "cell_type": "markdown",
   "metadata": {},
   "source": [
    "*Normalisasi*"
   ]
  },
  {
   "cell_type": "code",
   "execution_count": 49,
   "metadata": {},
   "outputs": [
    {
     "name": "stdout",
     "output_type": "stream",
     "text": [
      "[[0.24120603 0.2        0.62916112 0.01441422]\n",
      " [0.05304299 0.375      0.61118509 1.        ]\n",
      " [0.17811279 0.305      0.56191744 0.05429717]\n",
      " [0.10050251 0.25       0.59441333 0.11287526]\n",
      " [0.20044668 0.3125     0.5792277  0.09255446]\n",
      " [0.19653825 0.175      0.59441333 0.        ]\n",
      " [0.19653825 0.4375     0.66511318 0.01376395]\n",
      " [0.         0.6        0.3701731  0.23956866]\n",
      " [0.21217197 0.3        0.58788282 0.00493118]\n",
      " [0.06700168 0.55       0.60785619 0.35650807]\n",
      " [0.1451703  0.15       0.63981358 0.00764062]\n",
      " [0.13567839 0.345      1.         0.18749323]\n",
      " [0.1546622  0.275      0.55193076 0.02243416]\n",
      " [0.07593523 0.3        0.62050599 0.10669773]\n",
      " [0.20212172 0.15       0.62450067 0.05456812]\n",
      " [0.13512004 0.675      0.66844208 0.02151295]\n",
      " [0.16917923 0.4125     0.64380826 0.007749  ]\n",
      " [0.04913456 0.475      0.6551265  0.27842202]\n",
      " [0.09715243 0.3        0.57323569 0.02541454]\n",
      " [0.01116695 0.45       0.59853529 0.19128644]\n",
      " [0.11669458 0.35       0.64114514 0.00525631]\n",
      " [0.17811279 0.535      0.63382157 0.09472201]\n",
      " [0.16750419 0.19       0.61784288 0.00406416]\n",
      " [0.22166387 0.765      0.58322237 0.06031213]\n",
      " [0.11278615 0.1575     0.63715047 0.01961634]\n",
      " [0.15745394 0.3375     0.68841545 0.01744879]\n",
      " [0.14907873 0.3        0.79227696 0.01576894]\n",
      " [0.01116695 0.175      0.75765646 0.11704779]\n",
      " [0.25516471 0.25       0.57523302 0.01181316]\n",
      " [0.00558347 0.4        0.5918775  0.11325458]\n",
      " [0.07537688 0.075      0.6298269  0.03614393]\n",
      " [0.20714685 0.33       0.57190413 0.04226726]\n",
      " [0.226689   0.175      0.61517976 0.02107944]\n",
      " [0.1038526  0.39       0.59920107 0.04004552]\n",
      " [0.1038526  0.15       0.6298269  0.03218814]\n",
      " [0.24120603 0.425      0.64047936 0.01896608]\n",
      " [0.16638749 0.4345     0.69374168 0.01295112]\n",
      " [0.05695142 0.175      0.60719041 0.05543514]\n",
      " [0.23841429 0.25       0.58455393 0.00270944]\n",
      " [0.00558347 0.275      0.60519308 0.06394278]\n",
      " [0.36571748 0.75       0.54993342 0.01923702]\n",
      " [0.39642658 0.465      0.41411451 0.02530617]\n",
      " [0.25683975 0.37       0.54394141 0.01240923]\n",
      " [0.32607482 0.5        0.58655126 0.0280698 ]\n",
      " [0.1038526  0.56       0.62316911 0.03067086]\n",
      " [0.38190955 0.56       0.54993342 0.02254254]\n",
      " [0.2171971  0.5        0.55792277 0.0469275 ]\n",
      " [0.02959241 0.225      0.67110519 0.08177089]\n",
      " [0.22724735 0.5        0.55659121 0.02844912]\n",
      " [0.00558347 0.         0.5918775  0.10295871]\n",
      " [0.39698492 1.         0.55193076 0.00953723]\n",
      " [0.54718035 1.         0.38149134 0.03002059]\n",
      " [0.27135678 0.5        0.58921438 0.01809906]\n",
      " [0.38693467 0.75       0.55525965 0.06464723]\n",
      " [0.14126186 0.5        0.63382157 0.02644413]\n",
      " [0.33835846 0.5        0.5758988  0.01219248]\n",
      " [0.23785595 0.27       0.55858855 0.04410968]\n",
      " [0.14684534 0.5        0.61451398 0.05256313]\n",
      " [0.16694584 0.25       0.59121172 0.0309418 ]\n",
      " [0.03908431 0.         0.60519308 0.12842744]\n",
      " [0.21384701 0.5        0.55326232 0.0115964 ]\n",
      " [0.40815187 0.485      0.39280959 0.02915357]\n",
      " [0.25516471 0.5        0.59720373 0.00709873]\n",
      " [1.         0.77       0.         0.04145443]\n",
      " [0.1641541  0.5        0.63448735 0.02340956]\n",
      " [0.27470687 0.         0.57789614 0.01847838]\n",
      " [0.18425461 0.32       0.71371505 0.07006611]\n",
      " [0.12618649 0.5        0.563249   0.04102092]\n",
      " [0.17699609 0.25       0.58921438 0.03468083]\n",
      " [0.02791736 0.         0.61185087 0.14143275]]\n"
     ]
    }
   ],
   "source": [
    "# Membuat objek MinMaxScaler\n",
    "min_max_scaler = MinMaxScaler()\n",
    "\n",
    "# Melakukan normalisasi data\n",
    "normalized_data = min_max_scaler.fit_transform(data.iloc[:, [0, 1, 2, 3]])\n",
    "\n",
    "# Menampilkan hasil\n",
    "print(normalized_data)"
   ]
  },
  {
   "attachments": {},
   "cell_type": "markdown",
   "metadata": {},
   "source": [
    "*Label encoding*"
   ]
  },
  {
   "cell_type": "code",
   "execution_count": 50,
   "metadata": {},
   "outputs": [
    {
     "name": "stdout",
     "output_type": "stream",
     "text": [
      "   WCTA  EBITA      RETA   BVETD  Z-Score  Class  le\n",
      "0  4.32  1.400  1.360000   13.26   0.7762      0  30\n",
      "1  0.95  1.750  1.090000  195.14   5.9081      2  67\n",
      "2  3.19  1.610  0.350000   20.62   0.0852      0   6\n",
      "3  1.80  1.500  0.838088   31.43   5.7425      2  66\n",
      "4  3.59  1.625  0.610000   27.68   2.1127      1  61\n"
     ]
    }
   ],
   "source": [
    "# Terapkan label encoding\n",
    "le = LabelEncoder()\n",
    "data['le'] = le.fit_transform(data['Z-Score'])\n",
    "data['Class'] = le.fit_transform(data['Class'])\n",
    "\n",
    "# Menampilkan hasil\n",
    "print(data.head())"
   ]
  },
  {
   "attachments": {},
   "cell_type": "markdown",
   "metadata": {},
   "source": [
    "*One hot encoding*"
   ]
  },
  {
   "cell_type": "code",
   "execution_count": 51,
   "metadata": {},
   "outputs": [
    {
     "name": "stdout",
     "output_type": "stream",
     "text": [
      "   WCTA  EBITA      RETA   BVETD  Z-Score  Class  le\n",
      "0  4.32  1.400  1.360000   13.26   0.7762      0  30\n",
      "1  0.95  1.750  1.090000  195.14   5.9081      2  67\n",
      "2  3.19  1.610  0.350000   20.62   0.0852      0   6\n",
      "3  1.80  1.500  0.838088   31.43   5.7425      2  66\n",
      "4  3.59  1.625  0.610000   27.68   2.1127      1  61\n"
     ]
    }
   ],
   "source": [
    "# Terapkan one hot encoding pada kolom 'Class'\n",
    "ohe = OneHotEncoder()\n",
    "ohe_data = pd.DataFrame(ohe.fit_transform(data[['Class']]).toarray())\n",
    "\n",
    "# Menampilkan hasil\n",
    "print(data.head())"
   ]
  },
  {
   "attachments": {},
   "cell_type": "markdown",
   "metadata": {},
   "source": [
    "*Split dataset*"
   ]
  },
  {
   "cell_type": "code",
   "execution_count": 52,
   "metadata": {},
   "outputs": [
    {
     "name": "stdout",
     "output_type": "stream",
     "text": [
      "Training set shape:  (56, 5)\n",
      "Testing set shape:  (14, 5)\n"
     ]
    }
   ],
   "source": [
    "# Pisahkan feature dan kolom target\n",
    "X = data.iloc[:, :-2]\n",
    "y = data.iloc[:, :-1]\n",
    "\n",
    "# Membagi data menjadi set training dan testing\n",
    "X_train, X_test, y_train, y_test = train_test_split(X, y, test_size=0.2, random_state=42)\n",
    "\n",
    "# Menampilkan hasil\n",
    "print(\"Training set shape: \", X_train.shape)\n",
    "print(\"Testing set shape: \", X_test.shape)"
   ]
  },
  {
   "attachments": {},
   "cell_type": "markdown",
   "metadata": {},
   "source": [
    "*Imbalanced dataset*"
   ]
  },
  {
   "cell_type": "code",
   "execution_count": 53,
   "metadata": {},
   "outputs": [
    {
     "name": "stdout",
     "output_type": "stream",
     "text": [
      "              precision    recall  f1-score   support\n",
      "\n",
      "           0       1.00      1.00      1.00         7\n",
      "           1       1.00      0.86      0.92         7\n",
      "           2       0.00      0.00      0.00         0\n",
      "\n",
      "    accuracy                           0.93        14\n",
      "   macro avg       0.67      0.62      0.64        14\n",
      "weighted avg       1.00      0.93      0.96        14\n",
      "\n"
     ]
    },
    {
     "name": "stderr",
     "output_type": "stream",
     "text": [
      "c:\\Users\\LENOVO\\anaconda3\\lib\\site-packages\\sklearn\\metrics\\_classification.py:1318: UndefinedMetricWarning: Recall and F-score are ill-defined and being set to 0.0 in labels with no true samples. Use `zero_division` parameter to control this behavior.\n",
      "  _warn_prf(average, modifier, msg_start, len(result))\n",
      "c:\\Users\\LENOVO\\anaconda3\\lib\\site-packages\\sklearn\\metrics\\_classification.py:1318: UndefinedMetricWarning: Recall and F-score are ill-defined and being set to 0.0 in labels with no true samples. Use `zero_division` parameter to control this behavior.\n",
      "  _warn_prf(average, modifier, msg_start, len(result))\n",
      "c:\\Users\\LENOVO\\anaconda3\\lib\\site-packages\\sklearn\\metrics\\_classification.py:1318: UndefinedMetricWarning: Recall and F-score are ill-defined and being set to 0.0 in labels with no true samples. Use `zero_division` parameter to control this behavior.\n",
      "  _warn_prf(average, modifier, msg_start, len(result))\n"
     ]
    }
   ],
   "source": [
    "# Pisahkan features dan kolom target\n",
    "X = data[['WCTA', 'EBITA', 'RETA', 'BVETD', 'Z-Score']]\n",
    "y = data['Class']\n",
    "\n",
    "# Membagi dataset menjadi set data training dan testing\n",
    "X_train, X_test, y_train, y_test = train_test_split(X, y, test_size=0.2, random_state=42)\n",
    "\n",
    "# Melakukan oversampling pada data training\n",
    "sm = SMOTE(random_state=42)\n",
    "X_train_res, y_train_res = sm.fit_resample(X_train, y_train)\n",
    "\n",
    "# Membuat klasifikasi decision tree\n",
    "model = DecisionTreeClassifier()\n",
    "\n",
    "# Melatih model pada data training yang sudah di oversampling\n",
    "model.fit(X_train_res, y_train_res)\n",
    "\n",
    "# Mengevaluasi kinerja model pada data testing\n",
    "y_pred = model.predict(X_test)\n",
    "report = classification_report(y_test, y_pred)\n",
    "\n",
    "# Menampilkan laporan klasifikasi\n",
    "print(report)"
   ]
  },
  {
   "attachments": {},
   "cell_type": "markdown",
   "metadata": {},
   "source": [
    "*Feature selection*"
   ]
  },
  {
   "cell_type": "code",
   "execution_count": 54,
   "metadata": {},
   "outputs": [
    {
     "name": "stdout",
     "output_type": "stream",
     "text": [
      "WCTA :  0.0\n",
      "EBITA :  0.0\n",
      "RETA :  0.0\n",
      "BVETD :  0.0\n",
      "Z-Score :  1.0\n",
      "Model score:  0.7142857142857143\n"
     ]
    }
   ],
   "source": [
    "# Membuat model decision tree\n",
    "model = DecisionTreeRegressor()\n",
    "\n",
    "# Melatih model pada data training\n",
    "model.fit(X_train, y_train)\n",
    "\n",
    "# Mendapatkan feature importances\n",
    "importances = model.feature_importances_\n",
    "\n",
    "# menampilkan feature importances\n",
    "for i, col in enumerate(X.columns):\n",
    "    print(col, \": \", importances[i])\n",
    "\n",
    "# Mengevaluasi kinerja model pada set data uji\n",
    "score = model.score(X_test, y_test)\n",
    "\n",
    "# Menampilkan model score\n",
    "print(\"Model score: \", score)"
   ]
  },
  {
   "attachments": {},
   "cell_type": "markdown",
   "metadata": {},
   "source": [
    "*Decision Tree*"
   ]
  },
  {
   "cell_type": "code",
   "execution_count": 55,
   "metadata": {},
   "outputs": [
    {
     "data": {
      "text/plain": [
       "DecisionTreeClassifier()"
      ]
     },
     "execution_count": 55,
     "metadata": {},
     "output_type": "execute_result"
    }
   ],
   "source": [
    "# Pisahkan features dan kolom target\n",
    "X = data.iloc[:, :-1]\n",
    "y = data.iloc[:, -1]\n",
    "\n",
    "# Ubah ukuran label agar sesuai dengan larik data\n",
    "y = y[:X.shape[0]]\n",
    "\n",
    "# Membuat objek decision tree\n",
    "dtc = DecisionTreeClassifier()\n",
    "\n",
    "# Fit the classifier to the data using the fit() method\n",
    "dtc.fit(X, y)"
   ]
  },
  {
   "cell_type": "markdown",
   "metadata": {},
   "source": [
    "*Visualisasi data*"
   ]
  },
  {
   "cell_type": "code",
   "execution_count": 60,
   "metadata": {},
   "outputs": [
    {
     "data": {
      "image/png": "[encoded data removed]",
      "text/plain": [
       "<Figure size 1200x800 with 1 Axes>"
      ]
     },
     "metadata": {},
     "output_type": "display_data"
    }
   ],
   "source": [
    "# Visualize the decision tree using the plot_tree() function\n",
    "plt.figure(figsize=(12, 8))\n",
    "plot_tree(dtc, feature_names=X.columns, class_names=y.astype(str).unique(), filled=True)\n",
    "plt.show()\n"
   ]
  },
  {
   "cell_type": "code",
   "execution_count": 61,
   "metadata": {},
   "outputs": [
    {
     "data": {
      "text/plain": [
       "(0.08163265306122448, 0.047619047619047616)"
      ]
     },
     "execution_count": 61,
     "metadata": {},
     "output_type": "execute_result"
    }
   ],
   "source": [
    "RANDOM_SEED = 0\n",
    "dt_clf = DecisionTreeClassifier(criterion='gini', max_depth=2, random_state=RANDOM_SEED)\n",
    "X_train, X_test, y_train, y_test = train_test_split(X, y, test_size=0.3)\n",
    "dt_clf.fit(X_train, y_train)\n",
    "dt_clf.score(X_train, y_train), dt_clf.score(X_test, y_test) "
   ]
  }
 ],
 "metadata": {
  "kernelspec": {
   "display_name": "base",
   "language": "python",
   "name": "python3"
  },
  "language_info": {
   "codemirror_mode": {
    "name": "ipython",
    "version": 3
   },
   "file_extension": ".py",
   "mimetype": "text/x-python",
   "name": "python",
   "nbconvert_exporter": "python",
   "pygments_lexer": "ipython3",
   "version": "3.9.13"
  },
  "orig_nbformat": 4
 },
 "nbformat": 4,
 "nbformat_minor": 2
}
